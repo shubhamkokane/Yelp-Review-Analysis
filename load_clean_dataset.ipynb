{
 "cells": [
  {
   "cell_type": "code",
   "execution_count": 1,
   "id": "951dd09a",
   "metadata": {},
   "outputs": [],
   "source": [
    "import json\n",
    "import csv\n",
    "import pandas as pd\n",
    "import matplotlib.pyplot as plt"
   ]
  },
  {
   "cell_type": "markdown",
   "id": "fc53ab62",
   "metadata": {},
   "source": [
    "# load review data"
   ]
  },
  {
   "cell_type": "code",
   "execution_count": 2,
   "id": "74ff2cd8",
   "metadata": {},
   "outputs": [],
   "source": [
    "data = []\n",
    "with open('review.json') as f:\n",
    "    for line in f:\n",
    "        data.append(json.loads(line))"
   ]
  },
  {
   "cell_type": "code",
   "execution_count": 3,
   "id": "3c38f675",
   "metadata": {},
   "outputs": [
    {
     "data": {
      "text/plain": [
       "6990280"
      ]
     },
     "execution_count": 3,
     "metadata": {},
     "output_type": "execute_result"
    }
   ],
   "source": [
    "len(data)"
   ]
  },
  {
   "cell_type": "code",
   "execution_count": 4,
   "id": "9d275fc8",
   "metadata": {},
   "outputs": [
    {
     "data": {
      "text/plain": [
       "{'review_id': 'KU_O5udG6zpxOg-VcAEodg',\n",
       " 'user_id': 'mh_-eMZ6K5RLWhZyISBhwA',\n",
       " 'business_id': 'XQfwVwDr-v0ZS3_CbbE5Xw',\n",
       " 'stars': 3.0,\n",
       " 'useful': 0,\n",
       " 'funny': 0,\n",
       " 'cool': 0,\n",
       " 'text': \"If you decide to eat here, just be aware it is going to take about 2 hours from beginning to end. We have tried it multiple times, because I want to like it! I have been to it's other locations in NJ and never had a bad experience. \\n\\nThe food is good, but it takes a very long time to come out. The waitstaff is very young, but usually pleasant. We have just had too many experiences where we spent way too long waiting. We usually opt for another diner or restaurant on the weekends, in order to be done quicker.\",\n",
       " 'date': '2018-07-07 22:09:11'}"
      ]
     },
     "execution_count": 4,
     "metadata": {},
     "output_type": "execute_result"
    }
   ],
   "source": [
    "data[0]"
   ]
  },
  {
   "cell_type": "code",
   "execution_count": 11,
   "id": "3aaa3549",
   "metadata": {},
   "outputs": [],
   "source": [
    "reviewid = []\n",
    "businessid= []\n",
    "userid = []\n",
    "stars = []\n",
    "text = []\n",
    "date = []\n",
    "\n",
    "for entry in range(0, len(data)):     \n",
    "    reviewid.append(data[entry]['review_id'])\n",
    "    businessid.append(data[entry]['business_id'])\n",
    "    userid.append(data[entry]['user_id'])\n",
    "    stars.append(data[entry]['stars'])\n",
    "    text.append(data[entry]['text'])\n",
    "    date.append(data[entry]['date'])"
   ]
  },
  {
   "cell_type": "code",
   "execution_count": null,
   "id": "8feabce3",
   "metadata": {},
   "outputs": [],
   "source": [
    "data = {'review_id':reviewid,'business_id':businessid,'user_id':userid,'stars':stars,'text':text,'date':date}\n",
    "review_data  = pd.DataFrame(data)"
   ]
  },
  {
   "cell_type": "code",
   "execution_count": 7,
   "id": "f30690e5",
   "metadata": {},
   "outputs": [],
   "source": [
    "business_df = pd.DataFrame(data2)"
   ]
  },
  {
   "cell_type": "code",
   "execution_count": 115,
   "id": "e2ed8ead",
   "metadata": {},
   "outputs": [
    {
     "data": {
      "text/html": [
       "<div>\n",
       "<style scoped>\n",
       "    .dataframe tbody tr th:only-of-type {\n",
       "        vertical-align: middle;\n",
       "    }\n",
       "\n",
       "    .dataframe tbody tr th {\n",
       "        vertical-align: top;\n",
       "    }\n",
       "\n",
       "    .dataframe thead th {\n",
       "        text-align: right;\n",
       "    }\n",
       "</style>\n",
       "<table border=\"1\" class=\"dataframe\">\n",
       "  <thead>\n",
       "    <tr style=\"text-align: right;\">\n",
       "      <th></th>\n",
       "      <th>review_id</th>\n",
       "      <th>business_id</th>\n",
       "      <th>user_id</th>\n",
       "      <th>stars</th>\n",
       "      <th>text</th>\n",
       "      <th>date</th>\n",
       "    </tr>\n",
       "  </thead>\n",
       "  <tbody>\n",
       "    <tr>\n",
       "      <th>0</th>\n",
       "      <td>KU_O5udG6zpxOg-VcAEodg</td>\n",
       "      <td>XQfwVwDr-v0ZS3_CbbE5Xw</td>\n",
       "      <td>mh_-eMZ6K5RLWhZyISBhwA</td>\n",
       "      <td>3.0</td>\n",
       "      <td>If you decide to eat here, just be aware it is...</td>\n",
       "      <td>2018-07-07 22:09:11</td>\n",
       "    </tr>\n",
       "    <tr>\n",
       "      <th>1</th>\n",
       "      <td>BiTunyQ73aT9WBnpR9DZGw</td>\n",
       "      <td>7ATYjTIgM3jUlt4UM3IypQ</td>\n",
       "      <td>OyoGAe7OKpv6SyGZT5g77Q</td>\n",
       "      <td>5.0</td>\n",
       "      <td>I've taken a lot of spin classes over the year...</td>\n",
       "      <td>2012-01-03 15:28:18</td>\n",
       "    </tr>\n",
       "    <tr>\n",
       "      <th>2</th>\n",
       "      <td>saUsX_uimxRlCVr67Z4Jig</td>\n",
       "      <td>YjUWPpI6HXG530lwP-fb2A</td>\n",
       "      <td>8g_iMtfSiwikVnbP2etR0A</td>\n",
       "      <td>3.0</td>\n",
       "      <td>Family diner. Had the buffet. Eclectic assortm...</td>\n",
       "      <td>2014-02-05 20:30:30</td>\n",
       "    </tr>\n",
       "    <tr>\n",
       "      <th>3</th>\n",
       "      <td>AqPFMleE6RsU23_auESxiA</td>\n",
       "      <td>kxX2SOes4o-D3ZQBkiMRfA</td>\n",
       "      <td>_7bHUi9Uuf5__HHc_Q8guQ</td>\n",
       "      <td>5.0</td>\n",
       "      <td>Wow!  Yummy, different,  delicious.   Our favo...</td>\n",
       "      <td>2015-01-04 00:01:03</td>\n",
       "    </tr>\n",
       "    <tr>\n",
       "      <th>4</th>\n",
       "      <td>Sx8TMOWLNuJBWer-0pcmoA</td>\n",
       "      <td>e4Vwtrqf-wpJfwesgvdgxQ</td>\n",
       "      <td>bcjbaE6dDog4jkNY91ncLQ</td>\n",
       "      <td>4.0</td>\n",
       "      <td>Cute interior and owner (?) gave us tour of up...</td>\n",
       "      <td>2017-01-14 20:54:15</td>\n",
       "    </tr>\n",
       "  </tbody>\n",
       "</table>\n",
       "</div>"
      ],
      "text/plain": [
       "                review_id             business_id                 user_id  \\\n",
       "0  KU_O5udG6zpxOg-VcAEodg  XQfwVwDr-v0ZS3_CbbE5Xw  mh_-eMZ6K5RLWhZyISBhwA   \n",
       "1  BiTunyQ73aT9WBnpR9DZGw  7ATYjTIgM3jUlt4UM3IypQ  OyoGAe7OKpv6SyGZT5g77Q   \n",
       "2  saUsX_uimxRlCVr67Z4Jig  YjUWPpI6HXG530lwP-fb2A  8g_iMtfSiwikVnbP2etR0A   \n",
       "3  AqPFMleE6RsU23_auESxiA  kxX2SOes4o-D3ZQBkiMRfA  _7bHUi9Uuf5__HHc_Q8guQ   \n",
       "4  Sx8TMOWLNuJBWer-0pcmoA  e4Vwtrqf-wpJfwesgvdgxQ  bcjbaE6dDog4jkNY91ncLQ   \n",
       "\n",
       "   stars                                               text  \\\n",
       "0    3.0  If you decide to eat here, just be aware it is...   \n",
       "1    5.0  I've taken a lot of spin classes over the year...   \n",
       "2    3.0  Family diner. Had the buffet. Eclectic assortm...   \n",
       "3    5.0  Wow!  Yummy, different,  delicious.   Our favo...   \n",
       "4    4.0  Cute interior and owner (?) gave us tour of up...   \n",
       "\n",
       "                  date  \n",
       "0  2018-07-07 22:09:11  \n",
       "1  2012-01-03 15:28:18  \n",
       "2  2014-02-05 20:30:30  \n",
       "3  2015-01-04 00:01:03  \n",
       "4  2017-01-14 20:54:15  "
      ]
     },
     "execution_count": 115,
     "metadata": {},
     "output_type": "execute_result"
    }
   ],
   "source": [
    "review_data.head()"
   ]
  },
  {
   "cell_type": "code",
   "execution_count": null,
   "id": "5f8bf651",
   "metadata": {},
   "outputs": [],
   "source": [
    "len(review_data)"
   ]
  },
  {
   "cell_type": "code",
   "execution_count": 10,
   "id": "22f67cb9",
   "metadata": {},
   "outputs": [
    {
     "ename": "NameError",
     "evalue": "name 'review_data' is not defined",
     "output_type": "error",
     "traceback": [
      "\u001b[0;31m---------------------------------------------------------------------------\u001b[0m",
      "\u001b[0;31mNameError\u001b[0m                                 Traceback (most recent call last)",
      "\u001b[0;32m/var/folders/31/jnhds9w56tbcvfhscjr2jzdc0000gn/T/ipykernel_5641/2565545431.py\u001b[0m in \u001b[0;36m<module>\u001b[0;34m\u001b[0m\n\u001b[0;32m----> 1\u001b[0;31m \u001b[0mreview_data_test\u001b[0m \u001b[0;34m=\u001b[0m \u001b[0mpd\u001b[0m\u001b[0;34m.\u001b[0m\u001b[0mmerge\u001b[0m\u001b[0;34m(\u001b[0m\u001b[0mreview_data\u001b[0m\u001b[0;34m,\u001b[0m\u001b[0mdf\u001b[0m\u001b[0;34m[\u001b[0m\u001b[0;34m[\u001b[0m\u001b[0;34m'business_id'\u001b[0m\u001b[0;34m,\u001b[0m\u001b[0;34m'postal_code'\u001b[0m\u001b[0;34m]\u001b[0m\u001b[0;34m]\u001b[0m\u001b[0;34m,\u001b[0m \u001b[0mleft_on\u001b[0m\u001b[0;34m=\u001b[0m\u001b[0;34m'business_id'\u001b[0m\u001b[0;34m,\u001b[0m \u001b[0mright_on\u001b[0m\u001b[0;34m=\u001b[0m\u001b[0;34m'business_id'\u001b[0m\u001b[0;34m)\u001b[0m\u001b[0;34m\u001b[0m\u001b[0;34m\u001b[0m\u001b[0m\n\u001b[0m",
      "\u001b[0;31mNameError\u001b[0m: name 'review_data' is not defined"
     ]
    }
   ],
   "source": [
    "review_data_test = pd.merge(review_data,df[['business_id','postal_code']], left_on='business_id', right_on='business_id')"
   ]
  },
  {
   "cell_type": "code",
   "execution_count": 120,
   "id": "63e04ec8",
   "metadata": {},
   "outputs": [
    {
     "data": {
      "text/plain": [
       "671"
      ]
     },
     "execution_count": 120,
     "metadata": {},
     "output_type": "execute_result"
    }
   ],
   "source": [
    "len(review_data_test)"
   ]
  },
  {
   "cell_type": "code",
   "execution_count": 9,
   "id": "183fd39b",
   "metadata": {},
   "outputs": [],
   "source": [
    "review_data_test.to_csv('review_data.csv')"
   ]
  },
  {
   "cell_type": "markdown",
   "id": "640a0fb0",
   "metadata": {},
   "source": [
    "# load business data"
   ]
  },
  {
   "cell_type": "code",
   "execution_count": 3,
   "id": "da1f33fc",
   "metadata": {},
   "outputs": [
    {
     "data": {
      "text/plain": [
       "150346"
      ]
     },
     "execution_count": 3,
     "metadata": {},
     "output_type": "execute_result"
    }
   ],
   "source": [
    "data2 = []\n",
    "with open('business.json') as f:\n",
    "    for line in f:\n",
    "        data2.append(json.loads(line))\n",
    "len(data2)  # 156639 business"
   ]
  },
  {
   "cell_type": "code",
   "execution_count": 68,
   "id": "303a8d17",
   "metadata": {},
   "outputs": [
    {
     "data": {
      "text/plain": [
       "{'business_id': 'Pns2l4eNsfO8kk83dixA6A',\n",
       " 'name': 'Abby Rappoport, LAC, CMQ',\n",
       " 'address': '1616 Chapala St, Ste 2',\n",
       " 'city': 'Santa Barbara',\n",
       " 'state': 'CA',\n",
       " 'postal_code': '93101',\n",
       " 'latitude': 34.4266787,\n",
       " 'longitude': -119.7111968,\n",
       " 'stars': 5.0,\n",
       " 'review_count': 7,\n",
       " 'is_open': 0,\n",
       " 'attributes': {'ByAppointmentOnly': 'True'},\n",
       " 'categories': 'Doctors, Traditional Chinese Medicine, Naturopathic/Holistic, Acupuncture, Health & Medical, Nutritionists',\n",
       " 'hours': None}"
      ]
     },
     "execution_count": 68,
     "metadata": {},
     "output_type": "execute_result"
    }
   ],
   "source": [
    "data2[0]"
   ]
  },
  {
   "cell_type": "code",
   "execution_count": 69,
   "id": "25997f12",
   "metadata": {},
   "outputs": [],
   "source": [
    "business_id = []\n",
    "city = []\n",
    "state = []\n",
    "stars = []\n",
    "review_count = []\n",
    "categories = []\n",
    "postal_code = []\n",
    "latitude = []\n",
    "longitude = []\n",
    "pricerange = []\n",
    "is_open = []\n",
    "name = []\n",
    "\n",
    "\n",
    "for entry in range(0, len(data2)): \n",
    "    if \"Restaurants\" in (data2[entry][\"categories\"], True):\n",
    "        business_id.append(data2[entry]['business_id'])\n",
    "        name.append(data2[entry]['name'])\n",
    "        city.append(data2[entry]['city'])\n",
    "        state.append(data2[entry]['state'])\n",
    "        stars.append(data2[entry]['stars'])\n",
    "        postal_code.append(data2[entry]['postal_code'])\n",
    "        review_count.append(data2[entry]['review_count'])\n",
    "        categories.append(data2[entry]['categories'])\n",
    "        latitude.append(data2[entry]['latitude'])\n",
    "        longitude.append(data2[entry]['longitude'])\n",
    "        is_open.append(data2[entry]['is_open'])\n",
    "        if 'RestaurantsPriceRange2'in (data2[entry][\"attributes\"], True):\n",
    "            pricerange.append(data2[entry]['attributes']['RestaurantsPriceRange2'])\n",
    "        else:\n",
    "            pricerange.append(0)"
   ]
  },
  {
   "cell_type": "code",
   "execution_count": 70,
   "id": "acad6a69",
   "metadata": {},
   "outputs": [],
   "source": [
    "data2 = {'business_id ':business_id,'name':name,'city':city,'state':state,'stars':stars,'review_count':review_count,\n",
    "        'categories':categories,'latitude':latitude,'longitude':longitude,'is_open':is_open,\n",
    "        'pricerange':pricerange,'postal_code':postal_code}\n",
    "business_data  = pd.DataFrame(data2)"
   ]
  },
  {
   "cell_type": "markdown",
   "id": "4b50f9a8",
   "metadata": {},
   "source": [
    "# clean business data keep only is_open = 1 in six states"
   ]
  },
  {
   "cell_type": "code",
   "execution_count": 71,
   "id": "298d50a8",
   "metadata": {},
   "outputs": [],
   "source": [
    "IL = business_data[business_data['state']=='IL']   # PA NV NC IL OH AZ only keep these 6 states \n",
    "PA = business_data[business_data['state']=='PA'] \n",
    "NV = business_data[business_data['state']=='NV']\n",
    "NC = business_data[business_data['state']=='NC']\n",
    "OH = business_data[business_data['state']=='OH']\n",
    "AZ = business_data[business_data['state']=='AZ']\n",
    "frame = [IL,PA,NV,NC,OH,AZ]\n",
    "business_info = pd.concat(frame)"
   ]
  },
  {
   "cell_type": "code",
   "execution_count": 72,
   "id": "9268d8ef",
   "metadata": {},
   "outputs": [],
   "source": [
    "business = business_info[business_info['is_open']==1]   # only keep restaurants that are open\n",
    "business.to_csv('business_data.csv')   # save to csv"
   ]
  },
  {
   "cell_type": "code",
   "execution_count": 73,
   "id": "b2536d65",
   "metadata": {},
   "outputs": [
    {
     "data": {
      "text/plain": [
       "19"
      ]
     },
     "execution_count": 73,
     "metadata": {},
     "output_type": "execute_result"
    }
   ],
   "source": [
    "df = pd.read_csv('business_data.csv')"
   ]
  },
  {
   "cell_type": "markdown",
   "id": "3ce7b554",
   "metadata": {},
   "source": [
    "# Clean review: keep reviews for restaurants in cleaned business dataset"
   ]
  },
  {
   "cell_type": "code",
   "execution_count": 55,
   "id": "25983b7a",
   "metadata": {},
   "outputs": [],
   "source": [
    "#df = pd.read_csv('business_data.csv')\n",
    "\n",
    "#df2 = pd.read_csv('review_data.csv')\n",
    "\n",
    "df['key'] = df.iloc[:,0]\n",
    "review = df2[df2['business_id'].isin(df['key'])]  # only keep reviews for restaurants in business_data.csv\n",
    "review = review.reset_index().iloc[:,2:]\n"
   ]
  },
  {
   "cell_type": "code",
   "execution_count": 71,
   "id": "849ee0b4",
   "metadata": {},
   "outputs": [],
   "source": [
    "df = df.rename(columns={'business_id ':'business_id'})"
   ]
  },
  {
   "cell_type": "code",
   "execution_count": 107,
   "id": "7d8fe4b4",
   "metadata": {},
   "outputs": [],
   "source": [
    "test = pd.merge(review,df[['business_id','postal_code']], left_on='business_id', right_on='business_id')"
   ]
  },
  {
   "cell_type": "code",
   "execution_count": 110,
   "id": "90c6c36c",
   "metadata": {},
   "outputs": [],
   "source": [
    "test.to_csv('review_subset.csv',index = False)  # save to csv"
   ]
  },
  {
   "cell_type": "markdown",
   "id": "fa1f50db",
   "metadata": {},
   "source": [
    "# Load user data"
   ]
  },
  {
   "cell_type": "code",
   "execution_count": 111,
   "id": "7adf6497",
   "metadata": {},
   "outputs": [
    {
     "data": {
      "text/plain": [
       "1987897"
      ]
     },
     "execution_count": 111,
     "metadata": {},
     "output_type": "execute_result"
    }
   ],
   "source": [
    "data3 = []\n",
    "with open('user.json') as f:\n",
    "    for line in f:\n",
    "        data3.append(json.loads(line))\n",
    "len(data3)    # 1183362 users"
   ]
  },
  {
   "cell_type": "code",
   "execution_count": 112,
   "id": "6d55fe94",
   "metadata": {},
   "outputs": [],
   "source": [
    "userid = []\n",
    "average_stars= []\n",
    "review_count = []\n",
    "yelping_since = []\n",
    "\n",
    "for entry in range(0, len(data3)):     \n",
    "    userid.append(data3[entry]['user_id'])\n",
    "    average_stars.append(data3[entry]['average_stars'])\n",
    "    review_count.append(data3[entry]['review_count'])\n",
    "    yelping_since.append(data3[entry]['yelping_since'])"
   ]
  },
  {
   "cell_type": "code",
   "execution_count": 113,
   "id": "00d49d94",
   "metadata": {},
   "outputs": [],
   "source": [
    "data3 = {'user_id':userid ,'average_stars':average_stars,'review_count':review_count,'yelping_since':yelping_since,'review_count':review_count}\n",
    "user_data  = pd.DataFrame(data3)"
   ]
  },
  {
   "cell_type": "code",
   "execution_count": 114,
   "id": "5da0ffc6",
   "metadata": {},
   "outputs": [],
   "source": [
    "user_data.to_csv('user_data.csv')"
   ]
  },
  {
   "cell_type": "code",
   "execution_count": null,
   "id": "407d8efa",
   "metadata": {},
   "outputs": [],
   "source": []
  }
 ],
 "metadata": {
  "kernelspec": {
   "display_name": "Python 3 (ipykernel)",
   "language": "python",
   "name": "python3"
  },
  "language_info": {
   "codemirror_mode": {
    "name": "ipython",
    "version": 3
   },
   "file_extension": ".py",
   "mimetype": "text/x-python",
   "name": "python",
   "nbconvert_exporter": "python",
   "pygments_lexer": "ipython3",
   "version": "3.9.7"
  }
 },
 "nbformat": 4,
 "nbformat_minor": 5
}
